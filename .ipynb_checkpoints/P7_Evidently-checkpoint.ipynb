{
 "cells": [
  {
   "cell_type": "code",
   "execution_count": 1,
   "id": "fa917ec4-5d90-41a5-b3a7-a6b0da4c554a",
   "metadata": {},
   "outputs": [
    {
     "name": "stdout",
     "output_type": "stream",
     "text": [
      "Name: evidently\n",
      "Version: 0.4.25\n",
      "Summary: Open-source tools to analyze, monitor, and debug machine learning model in production.\n",
      "Home-page: https://github.com/evidentlyai/evidently\n",
      "Author: Emeli Dral\n",
      "Author-email: emeli.dral@gmail.com\n",
      "License: UNKNOWN\n",
      "Location: /Users/maudg1/anaconda3/envs/scoring/lib/python3.9/site-packages\n",
      "Requires: certifi, dynaconf, fsspec, iterative-telemetry, litestar, nltk, numpy, pandas, plotly, pydantic, PyYAML, requests, rich, scikit-learn, scipy, statsmodels, typer, typing-inspect, ujson, urllib3, uvicorn, watchdog\n",
      "Required-by: \n"
     ]
    }
   ],
   "source": [
    "!pip show evidently"
   ]
  },
  {
   "cell_type": "code",
   "execution_count": 2,
   "id": "63c9b3db-12c2-4eb2-ac36-7fa1989bb45e",
   "metadata": {},
   "outputs": [
    {
     "name": "stdout",
     "output_type": "stream",
     "text": [
      "/Users/maudg1/anaconda3/envs/scoring/bin/python\n"
     ]
    }
   ],
   "source": [
    "import sys\n",
    "print(sys.executable)"
   ]
  },
  {
   "cell_type": "markdown",
   "id": "78d9a2fb-11f5-442e-a5ec-b55532edcd36",
   "metadata": {},
   "source": [
    "# Import"
   ]
  },
  {
   "cell_type": "code",
   "execution_count": 3,
   "id": "18b7eb06-c691-4c31-bc32-8c6feea928f1",
   "metadata": {},
   "outputs": [],
   "source": [
    "import pandas as pd \n",
    "import evidently"
   ]
  },
  {
   "cell_type": "code",
   "execution_count": 4,
   "id": "64456570-9721-4832-993f-2d20681be7fc",
   "metadata": {},
   "outputs": [],
   "source": [
    "from evidently.report import Report\n",
    "from evidently.metric_preset import DataDriftPreset"
   ]
  },
  {
   "cell_type": "markdown",
   "id": "a412fe62-2285-44a6-b0fa-bb0eed461c61",
   "metadata": {},
   "source": [
    "# "
   ]
  },
  {
   "cell_type": "code",
   "execution_count": 15,
   "id": "2d02863c-48ea-4bbc-9c2d-546d80e26f4c",
   "metadata": {},
   "outputs": [],
   "source": [
    "df_train = pd.read_csv('credit_files/application_train.csv')\n",
    "df_test = pd.read_csv('credit_files/application_test.csv')"
   ]
  },
  {
   "cell_type": "raw",
   "id": "d64cfeb5-48fe-4e6a-b624-725390cf5d41",
   "metadata": {},
   "source": [
    "Model signature : \n",
    "[\"EXT_SOURCE_3\", \"EXT_SOURCE_2\", \"CODE_GENDER\", \"NAME_EDUCATION_TYPE_Secondary / secondary special\", \"FLAG_DOCUMENT_3\",\n",
    "\"AMT_REQ_CREDIT_BUREAU_HOUR\", \"REGION_RATING_CLIENT\", \"EXT_SOURCE_1\",\n",
    "\"NAME_INCOME_TYPE_Working\", \"FLAG_EMP_PHONE\"]"
   ]
  },
  {
   "cell_type": "code",
   "execution_count": 17,
   "id": "9b62556b-b7dc-44ae-95de-6ee74c9549a3",
   "metadata": {},
   "outputs": [],
   "source": [
    "train_drift = df_train[[\"EXT_SOURCE_3\", \"EXT_SOURCE_2\", \"CODE_GENDER\", \"FLAG_DOCUMENT_3\",\n",
    "\"AMT_REQ_CREDIT_BUREAU_HOUR\", \"REGION_RATING_CLIENT\", \"EXT_SOURCE_1\", \"FLAG_EMP_PHONE\"]]\n",
    "\n",
    "test_drift = df_test[[\"EXT_SOURCE_3\", \"EXT_SOURCE_2\", \"CODE_GENDER\", \"FLAG_DOCUMENT_3\",\n",
    "\"AMT_REQ_CREDIT_BUREAU_HOUR\", \"REGION_RATING_CLIENT\", \"EXT_SOURCE_1\", \"FLAG_EMP_PHONE\"]]"
   ]
  },
  {
   "cell_type": "code",
   "execution_count": 18,
   "id": "bf76b537-b177-4018-9dc3-1f9e0bd311d4",
   "metadata": {},
   "outputs": [
    {
     "data": {
      "text/html": [
       "<div>\n",
       "<style scoped>\n",
       "    .dataframe tbody tr th:only-of-type {\n",
       "        vertical-align: middle;\n",
       "    }\n",
       "\n",
       "    .dataframe tbody tr th {\n",
       "        vertical-align: top;\n",
       "    }\n",
       "\n",
       "    .dataframe thead th {\n",
       "        text-align: right;\n",
       "    }\n",
       "</style>\n",
       "<table border=\"1\" class=\"dataframe\">\n",
       "  <thead>\n",
       "    <tr style=\"text-align: right;\">\n",
       "      <th></th>\n",
       "      <th>EXT_SOURCE_3</th>\n",
       "      <th>EXT_SOURCE_2</th>\n",
       "      <th>CODE_GENDER</th>\n",
       "      <th>FLAG_DOCUMENT_3</th>\n",
       "      <th>AMT_REQ_CREDIT_BUREAU_HOUR</th>\n",
       "      <th>REGION_RATING_CLIENT</th>\n",
       "      <th>EXT_SOURCE_1</th>\n",
       "      <th>FLAG_EMP_PHONE</th>\n",
       "    </tr>\n",
       "  </thead>\n",
       "  <tbody>\n",
       "    <tr>\n",
       "      <th>0</th>\n",
       "      <td>NaN</td>\n",
       "      <td>NaN</td>\n",
       "      <td>NaN</td>\n",
       "      <td>NaN</td>\n",
       "      <td>NaN</td>\n",
       "      <td>NaN</td>\n",
       "      <td>NaN</td>\n",
       "      <td>NaN</td>\n",
       "    </tr>\n",
       "    <tr>\n",
       "      <th>1</th>\n",
       "      <td>NaN</td>\n",
       "      <td>0.622246</td>\n",
       "      <td>F</td>\n",
       "      <td>1.0</td>\n",
       "      <td>0.0</td>\n",
       "      <td>1.0</td>\n",
       "      <td>0.311267</td>\n",
       "      <td>1.0</td>\n",
       "    </tr>\n",
       "    <tr>\n",
       "      <th>2</th>\n",
       "      <td>0.729567</td>\n",
       "      <td>0.555912</td>\n",
       "      <td>M</td>\n",
       "      <td>0.0</td>\n",
       "      <td>0.0</td>\n",
       "      <td>2.0</td>\n",
       "      <td>NaN</td>\n",
       "      <td>1.0</td>\n",
       "    </tr>\n",
       "    <tr>\n",
       "      <th>3</th>\n",
       "      <td>NaN</td>\n",
       "      <td>0.650442</td>\n",
       "      <td>F</td>\n",
       "      <td>1.0</td>\n",
       "      <td>NaN</td>\n",
       "      <td>2.0</td>\n",
       "      <td>NaN</td>\n",
       "      <td>1.0</td>\n",
       "    </tr>\n",
       "    <tr>\n",
       "      <th>4</th>\n",
       "      <td>NaN</td>\n",
       "      <td>0.322738</td>\n",
       "      <td>M</td>\n",
       "      <td>0.0</td>\n",
       "      <td>0.0</td>\n",
       "      <td>2.0</td>\n",
       "      <td>NaN</td>\n",
       "      <td>1.0</td>\n",
       "    </tr>\n",
       "    <tr>\n",
       "      <th>...</th>\n",
       "      <td>...</td>\n",
       "      <td>...</td>\n",
       "      <td>...</td>\n",
       "      <td>...</td>\n",
       "      <td>...</td>\n",
       "      <td>...</td>\n",
       "      <td>...</td>\n",
       "      <td>...</td>\n",
       "    </tr>\n",
       "    <tr>\n",
       "      <th>7994</th>\n",
       "      <td>0.581484</td>\n",
       "      <td>0.625002</td>\n",
       "      <td>F</td>\n",
       "      <td>1.0</td>\n",
       "      <td>0.0</td>\n",
       "      <td>2.0</td>\n",
       "      <td>0.614858</td>\n",
       "      <td>1.0</td>\n",
       "    </tr>\n",
       "    <tr>\n",
       "      <th>7995</th>\n",
       "      <td>0.504681</td>\n",
       "      <td>0.078597</td>\n",
       "      <td>M</td>\n",
       "      <td>0.0</td>\n",
       "      <td>0.0</td>\n",
       "      <td>2.0</td>\n",
       "      <td>NaN</td>\n",
       "      <td>1.0</td>\n",
       "    </tr>\n",
       "    <tr>\n",
       "      <th>7996</th>\n",
       "      <td>0.227613</td>\n",
       "      <td>0.569444</td>\n",
       "      <td>F</td>\n",
       "      <td>1.0</td>\n",
       "      <td>0.0</td>\n",
       "      <td>2.0</td>\n",
       "      <td>NaN</td>\n",
       "      <td>1.0</td>\n",
       "    </tr>\n",
       "    <tr>\n",
       "      <th>7997</th>\n",
       "      <td>0.397946</td>\n",
       "      <td>0.501046</td>\n",
       "      <td>F</td>\n",
       "      <td>1.0</td>\n",
       "      <td>0.0</td>\n",
       "      <td>2.0</td>\n",
       "      <td>NaN</td>\n",
       "      <td>1.0</td>\n",
       "    </tr>\n",
       "    <tr>\n",
       "      <th>7998</th>\n",
       "      <td>NaN</td>\n",
       "      <td>NaN</td>\n",
       "      <td>NaN</td>\n",
       "      <td>NaN</td>\n",
       "      <td>NaN</td>\n",
       "      <td>NaN</td>\n",
       "      <td>NaN</td>\n",
       "      <td>NaN</td>\n",
       "    </tr>\n",
       "  </tbody>\n",
       "</table>\n",
       "<p>7999 rows × 8 columns</p>\n",
       "</div>"
      ],
      "text/plain": [
       "      EXT_SOURCE_3  EXT_SOURCE_2 CODE_GENDER  FLAG_DOCUMENT_3  \\\n",
       "0              NaN           NaN         NaN              NaN   \n",
       "1              NaN      0.622246           F              1.0   \n",
       "2         0.729567      0.555912           M              0.0   \n",
       "3              NaN      0.650442           F              1.0   \n",
       "4              NaN      0.322738           M              0.0   \n",
       "...            ...           ...         ...              ...   \n",
       "7994      0.581484      0.625002           F              1.0   \n",
       "7995      0.504681      0.078597           M              0.0   \n",
       "7996      0.227613      0.569444           F              1.0   \n",
       "7997      0.397946      0.501046           F              1.0   \n",
       "7998           NaN           NaN         NaN              NaN   \n",
       "\n",
       "      AMT_REQ_CREDIT_BUREAU_HOUR  REGION_RATING_CLIENT  EXT_SOURCE_1  \\\n",
       "0                            NaN                   NaN           NaN   \n",
       "1                            0.0                   1.0      0.311267   \n",
       "2                            0.0                   2.0           NaN   \n",
       "3                            NaN                   2.0           NaN   \n",
       "4                            0.0                   2.0           NaN   \n",
       "...                          ...                   ...           ...   \n",
       "7994                         0.0                   2.0      0.614858   \n",
       "7995                         0.0                   2.0           NaN   \n",
       "7996                         0.0                   2.0           NaN   \n",
       "7997                         0.0                   2.0           NaN   \n",
       "7998                         NaN                   NaN           NaN   \n",
       "\n",
       "      FLAG_EMP_PHONE  \n",
       "0                NaN  \n",
       "1                1.0  \n",
       "2                1.0  \n",
       "3                1.0  \n",
       "4                1.0  \n",
       "...              ...  \n",
       "7994             1.0  \n",
       "7995             1.0  \n",
       "7996             1.0  \n",
       "7997             1.0  \n",
       "7998             NaN  \n",
       "\n",
       "[7999 rows x 8 columns]"
      ]
     },
     "execution_count": 18,
     "metadata": {},
     "output_type": "execute_result"
    }
   ],
   "source": [
    "train_drift"
   ]
  },
  {
   "cell_type": "code",
   "execution_count": 19,
   "id": "94dcee26-d9c7-4365-a8a5-aa750f349e5d",
   "metadata": {},
   "outputs": [],
   "source": [
    "report = Report(metrics=[DataDriftPreset()])\n",
    "report.run(reference_data=train_drift, current_data=test_drift)\n",
    "report.save_html(\"data_drift_report.html\")"
   ]
  },
  {
   "cell_type": "code",
   "execution_count": null,
   "id": "0a3b1277-c633-45b4-a2ec-5efeb1905f6f",
   "metadata": {},
   "outputs": [],
   "source": []
  }
 ],
 "metadata": {
  "kernelspec": {
   "display_name": "scoring",
   "language": "python",
   "name": "scoring"
  },
  "language_info": {
   "codemirror_mode": {
    "name": "ipython",
    "version": 3
   },
   "file_extension": ".py",
   "mimetype": "text/x-python",
   "name": "python",
   "nbconvert_exporter": "python",
   "pygments_lexer": "ipython3",
   "version": "3.9.20"
  }
 },
 "nbformat": 4,
 "nbformat_minor": 5
}
