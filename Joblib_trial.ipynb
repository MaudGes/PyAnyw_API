{
 "cells": [
  {
   "cell_type": "code",
   "execution_count": 2,
   "id": "fcddb951-97f2-4f7e-82ea-032e07e794cb",
   "metadata": {},
   "outputs": [],
   "source": [
    "from sklearn.datasets import make_classification\n",
    "from sklearn.model_selection import train_test_split\n",
    "from sklearn.preprocessing import StandardScaler\n",
    "from sklearn.pipeline import Pipeline\n",
    "from xgboost import XGBClassifier\n",
    "from sklearn.metrics import make_scorer, confusion_matrix, accuracy_score, roc_auc_score\n",
    "from sklearn.base import BaseEstimator, TransformerMixin\n",
    "from sklearn.compose import ColumnTransformer\n",
    "import time\n",
    "import gc\n",
    "import os\n",
    "import pandas as pd\n",
    "import numpy as np\n",
    "import mlflow\n",
    "import mlflow.sklearn\n",
    "import warnings\n",
    "import joblib"
   ]
  },
  {
   "cell_type": "code",
   "execution_count": 3,
   "id": "e580003b-8834-4d6e-b241-96ec6681d878",
   "metadata": {},
   "outputs": [
    {
     "name": "stdout",
     "output_type": "stream",
     "text": [
      "   EXT_SOURCE_3  EXT_SOURCE_2  NAME_EDUCATION_TYPE_Higher education  \\\n",
      "0      0.510856      0.322738                                 False   \n",
      "\n",
      "   NAME_INCOME_TYPE_Working  \\\n",
      "0                      True   \n",
      "\n",
      "   NAME_EDUCATION_TYPE_Secondary / secondary special  CODE_GENDER  \\\n",
      "0                                               True            0   \n",
      "\n",
      "   NAME_CONTRACT_TYPE_Cash loans  REGION_RATING_CLIENT  FLAG_DOCUMENT_3  \\\n",
      "0                           True                     2                0   \n",
      "\n",
      "   probability_of_repayment  final_prediction  \n",
      "0                  0.003524                 0  \n"
     ]
    }
   ],
   "source": [
    "# Load the trained pipeline\n",
    "pipeline = joblib.load('/Users/maudg1/Documents/PythonA_API/pipeline_clients_traintest_4.joblib')\n",
    "\n",
    "# Define the column names\n",
    "columns = [\n",
    "    \"EXT_SOURCE_3\",\n",
    "    \"EXT_SOURCE_2\",\n",
    "    \"NAME_EDUCATION_TYPE_Higher education\",\n",
    "    \"NAME_INCOME_TYPE_Working\",\n",
    "    \"NAME_EDUCATION_TYPE_Secondary / secondary special\",\n",
    "    \"CODE_GENDER\",\n",
    "    \"NAME_CONTRACT_TYPE_Cash loans\",\n",
    "    \"REGION_RATING_CLIENT\",\n",
    "    \"FLAG_DOCUMENT_3\"\n",
    "]\n",
    "\n",
    "# Define the data\n",
    "data = [\n",
    "    [0.510856, 0.322738, False, True, True, 0, True, 2, 0]\n",
    "]\n",
    "\n",
    "# Create DataFrame\n",
    "X_new = pd.DataFrame(data, columns=columns)\n",
    "\n",
    "# Predict probabilities\n",
    "y_proba_new = pipeline.predict_proba(X_new)[:, 1]\n",
    "\n",
    "# Apply the threshold to get final predictions\n",
    "y_pred_new = (y_proba_new >= 0.15).astype(int)\n",
    "\n",
    "# Add predictions to the DataFrame\n",
    "X_new['probability_of_repayment'] = y_proba_new\n",
    "X_new['final_prediction'] = y_pred_new\n",
    "\n",
    "print(X_new.head())\n"
   ]
  },
  {
   "cell_type": "code",
   "execution_count": null,
   "id": "963691f3-85ce-4562-9d53-3df343946e24",
   "metadata": {},
   "outputs": [],
   "source": []
  }
 ],
 "metadata": {
  "kernelspec": {
   "display_name": "scoring",
   "language": "python",
   "name": "scoring"
  },
  "language_info": {
   "codemirror_mode": {
    "name": "ipython",
    "version": 3
   },
   "file_extension": ".py",
   "mimetype": "text/x-python",
   "name": "python",
   "nbconvert_exporter": "python",
   "pygments_lexer": "ipython3",
   "version": "3.9.20"
  }
 },
 "nbformat": 4,
 "nbformat_minor": 5
}
